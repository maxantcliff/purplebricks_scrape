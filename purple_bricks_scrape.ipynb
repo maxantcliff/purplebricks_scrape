{
 "cells": [
  {
   "cell_type": "markdown",
   "metadata": {},
   "source": [
    "# Purplebricks - scrape using BeautifulSoup"
   ]
  },
  {
   "cell_type": "markdown",
   "metadata": {},
   "source": [
    "Import the key modules:"
   ]
  },
  {
   "cell_type": "code",
   "execution_count": 1,
   "metadata": {},
   "outputs": [],
   "source": [
    "from bs4 import BeautifulSoup\n",
    "import requests\n",
    "import pandas as pd\n",
    "import re"
   ]
  },
  {
   "cell_type": "markdown",
   "metadata": {},
   "source": [
    "### First, get the html code\n",
    "On [Purple Bricks](https://www.purplebricks.co.uk/) I search for properties within 30 miles of London:"
   ]
  },
  {
   "cell_type": "code",
   "execution_count": 27,
   "metadata": {},
   "outputs": [],
   "source": [
    "http='https://www.purplebricks.co.uk/search/property-for-sale/greater-london/london?page=1&sortBy=2&location=london&searchRadius=30&searchType=ForSale&soldOrLet=false&latitude=51.5073509&longitude=-0.1277583&betasearch=true'\n",
    "source = requests.get(http).text\n",
    "soup=BeautifulSoup(source,'lxml')"
   ]
  },
  {
   "cell_type": "markdown",
   "metadata": {},
   "source": [
    "Through manual inspection, find that the below is the class within which the key details of each listing can be found:"
   ]
  },
  {
   "cell_type": "code",
   "execution_count": 28,
   "metadata": {
    "scrolled": true
   },
   "outputs": [
    {
     "name": "stdout",
     "output_type": "stream",
     "text": [
      "<div class=\"property-cardstyled__StyledPropertyCard-sc-15g6092-0 fwvNIe\">\n",
      " <a aria-label=\"5 bedroom detached house - £4,250,000\" class=\"property-cardstyled__StyledLink-sc-15g6092-1 eQIvCR\" href=\"/property-for-sale/5-bedroom-detached-house-chigwell-1086709\">\n",
      " </a>\n",
      " <div>\n",
      "  <div class=\"property-cardstyled__StyledImageAndStatusContainer-sc-15g6092-2 creKyf\">\n",
      "   <div class=\"property-cardstyled__StyledImageContainer-sc-15g6092-3 hqlVhF\">\n",
      "    <div data-testid=\"lazy-loading-image-container\">\n",
      "     <div class=\"skeletonstyled__StyledSkeleton-sc-15jgb87-0 XujuQ ghost-property-cardstyled__StyledSkeletonCard-jm127k-3 jybbKl\">\n",
      "      <div class=\"ghost-property-cardstyled__StyledSkeletonTopContainer-jm127k-4 jhbtuW\">\n",
      "       <div class=\"ghost-property-cardstyled__StyledSkeletonImage-jm127k-5 inaEIe\">\n",
      "       </div>\n",
      "      </div>\n",
      "     </div>\n",
      "    </div>\n",
      "   </div>\n",
      "   <span class=\"property-cardstyled__StyledStatus-sc-15g6092-5 cXQHXV\">\n",
      "   </span>\n",
      "  </div>\n",
      " </div>\n",
      " <div class=\"property-cardstyled__StyledPrimaryInfo-sc-15g6092-6 focoAE\">\n",
      "  <strong class=\"property-cardstyled__StyledPrice-sc-15g6092-7 cWDEnM\" data-testid=\"search-result-price\">\n",
      "   £4,250,000\n",
      "   <!-- -->\n",
      "  </strong>\n",
      "  <span class=\"property-cardstyled__StyledPriceQualifier-sc-15g6092-8 fzmGMQ\">\n",
      "   Offers in the Region of (OIRO)\n",
      "  </span>\n",
      "  <span class=\"property-cardstyled__StyledAddress-sc-15g6092-10 kLxiCm\" data-testid=\"search-result-address\">\n",
      "   Hainault Road, Chigwell, IG7 5DL\n",
      "  </span>\n",
      "  <span class=\"property-cardstyled__StyledTitle-sc-15g6092-9 hpHzPf\" data-testid=\"search-result-bedrooms-title\">\n",
      "   <strong data-testid=\"search-result-bedrooms\">\n",
      "    5\n",
      "   </strong>\n",
      "   bedroom detached house\n",
      "  </span>\n",
      " </div>\n",
      " <span class=\"property-cardstyled__StyledDescription-sc-15g6092-11 jtAFzz\" data-testid=\"search-result-description\">\n",
      "  Situated on a substantial plot in one of Chigwell's premier roads is this large five bedroom family home. Full planning permission is in place to build a luxury three-storey Georgian style mansion block, providing int...\n",
      " </span>\n",
      "</div>\n"
     ]
    }
   ],
   "source": [
    "listing=soup.find('div', class_=\"property-cardstyled__StyledPropertyCard-sc-15g6092-0 fwvNIe\")\n",
    "print(listing.prettify())"
   ]
  },
  {
   "cell_type": "code",
   "execution_count": 29,
   "metadata": {},
   "outputs": [
    {
     "name": "stdout",
     "output_type": "stream",
     "text": [
      "5 bedroom detached house - £4,250,000\n"
     ]
    }
   ],
   "source": [
    "print(listing.a['aria-label'])"
   ]
  },
  {
   "cell_type": "markdown",
   "metadata": {},
   "source": [
    "Need to change these details into some data:"
   ]
  },
  {
   "cell_type": "code",
   "execution_count": 30,
   "metadata": {},
   "outputs": [
    {
     "name": "stdout",
     "output_type": "stream",
     "text": [
      "['5', 'detached house', '', '4,250,000']\n",
      "5 detached house 4250000\n"
     ]
    }
   ],
   "source": [
    "listing_details=re.split(' bedroom | - |£',listing.a['aria-label'])\n",
    "print(listing_details)\n",
    "bedrooms=int(listing_details[0])\n",
    "details=(listing_details[1])\n",
    "price=int(listing_details[3].replace(',',''))\n",
    "print(bedrooms, details, price)"
   ]
  },
  {
   "cell_type": "code",
   "execution_count": 6,
   "metadata": {},
   "outputs": [
    {
     "name": "stdout",
     "output_type": "stream",
     "text": [
      "5 bedroom detached house - £4,250,000\n",
      "5 bedroom semi-detached house - £4,000,000\n",
      "3 bedroom flat - £3,250,000\n",
      "4 bedroom end of terrace house - £2,850,000\n",
      "4 bedroom flat - £1,950,000\n",
      "6 bedroom terraced house - £1,850,000\n",
      "5 bedroom detached house - £1,850,000\n",
      "6 bedroom detached house - £1,840,000\n",
      "3 bedroom town house - £1,750,000\n",
      "6 bedroom detached house - £1,750,000\n"
     ]
    }
   ],
   "source": [
    "for listing in soup.find_all('div', class_=\"property-cardstyled__StyledPropertyCard-sc-15g6092-0 fwvNIe\"):\n",
    "    print(listing.a['aria-label'])"
   ]
  },
  {
   "cell_type": "markdown",
   "metadata": {},
   "source": [
    "### Troubleshooting\n",
    "Initial attempts at this scrape found that the above worked fine for 90% of listings - but sometimes encountered an error for a listing where there were no bedrooms - i.e. in the format of the below: "
   ]
  },
  {
   "cell_type": "code",
   "execution_count": 7,
   "metadata": {},
   "outputs": [],
   "source": [
    "details2=\"apartment - £470,000\""
   ]
  },
  {
   "cell_type": "markdown",
   "metadata": {},
   "source": [
    "And so running the below encountered an error:"
   ]
  },
  {
   "cell_type": "code",
   "execution_count": 8,
   "metadata": {},
   "outputs": [
    {
     "ename": "ValueError",
     "evalue": "invalid literal for int() with base 10: 'apartment'",
     "output_type": "error",
     "traceback": [
      "\u001b[1;31m---------------------------------------------------------------------------\u001b[0m",
      "\u001b[1;31mValueError\u001b[0m                                Traceback (most recent call last)",
      "\u001b[1;32m<ipython-input-8-7e57ffb6b5c7>\u001b[0m in \u001b[0;36m<module>\u001b[1;34m\u001b[0m\n\u001b[1;32m----> 1\u001b[1;33m \u001b[0mprice\u001b[0m\u001b[1;33m=\u001b[0m\u001b[0mint\u001b[0m\u001b[1;33m(\u001b[0m\u001b[0mre\u001b[0m\u001b[1;33m.\u001b[0m\u001b[0msplit\u001b[0m\u001b[1;33m(\u001b[0m\u001b[1;34m' bedroom | - |£'\u001b[0m\u001b[1;33m,\u001b[0m\u001b[0mdetails2\u001b[0m\u001b[1;33m)\u001b[0m\u001b[1;33m[\u001b[0m\u001b[1;36m0\u001b[0m\u001b[1;33m]\u001b[0m\u001b[1;33m)\u001b[0m\u001b[1;33m\u001b[0m\u001b[1;33m\u001b[0m\u001b[0m\n\u001b[0m",
      "\u001b[1;31mValueError\u001b[0m: invalid literal for int() with base 10: 'apartment'"
     ]
    }
   ],
   "source": [
    "price=int(re.split(' bedroom | - |£',details2)[0])"
   ]
  },
  {
   "cell_type": "markdown",
   "metadata": {},
   "source": [
    "Therefore build in a try & except:"
   ]
  },
  {
   "cell_type": "code",
   "execution_count": 32,
   "metadata": {},
   "outputs": [
    {
     "name": "stdout",
     "output_type": "stream",
     "text": [
      "1 apartment 470000\n"
     ]
    }
   ],
   "source": [
    "try:\n",
    "    listing_details=re.split(' bedroom | - |£',details2)\n",
    "    bedrooms=int(listing_details[0])\n",
    "    details=listing_details[1]\n",
    "    price=int(listing_details[3].replace(',',''))\n",
    "except:\n",
    "    listing_details=re.split(' - |£',details2)\n",
    "    bedrooms=1\n",
    "    details=listing_details[0]\n",
    "    price=int(listing_details[2].replace(',',''))\n",
    "print(bedrooms, details, price)"
   ]
  },
  {
   "cell_type": "markdown",
   "metadata": {},
   "source": [
    "Check it still works for the orignial details type:"
   ]
  },
  {
   "cell_type": "code",
   "execution_count": 31,
   "metadata": {},
   "outputs": [
    {
     "name": "stdout",
     "output_type": "stream",
     "text": [
      "5 detached house 4250000\n"
     ]
    }
   ],
   "source": [
    "try:\n",
    "    bedrooms=int(re.split(' bedroom | - |£',listing.a['aria-label'])[0])\n",
    "    details=(re.split(' bedroom | - |£',listing.a['aria-label'])[1])\n",
    "    price=int(re.split(' bedroom | - |£',listing.a['aria-label'])[3].replace(',',''))\n",
    "except Exception as e:\n",
    "    listing_details=re.split(' - |£',listing.a['aria-label'])\n",
    "    bedrooms=0\n",
    "    details=listing_details[0]\n",
    "    price=int(listing_details[2].replace(',',''))\n",
    "print(bedrooms, details, price)"
   ]
  },
  {
   "cell_type": "markdown",
   "metadata": {},
   "source": [
    "## Need to find the total number of properties for a given search to determine number of pages to scrape across"
   ]
  },
  {
   "cell_type": "code",
   "execution_count": 55,
   "metadata": {},
   "outputs": [
    {
     "name": "stdout",
     "output_type": "stream",
     "text": [
      "<span class=\"pagination-locationstyled__StyledContainer-sc-1wpe7y8-0 gTivhm pagination-barstyled__StyledPaginationLocation-sc-1t8z84i-2 cHdiez\" data-testid=\"search-results-number\">\n",
      " 1\n",
      " <!-- -->\n",
      " -\n",
      " <!-- -->\n",
      " 10\n",
      " <!-- -->\n",
      " of\n",
      " <!-- -->\n",
      " <strong>\n",
      "  3056\n",
      " </strong>\n",
      " properties\n",
      "</span>\n"
     ]
    }
   ],
   "source": [
    "properties=soup.find('span',class_='pagination-locationstyled__StyledContainer-sc-1wpe7y8-0 gTivhm pagination-barstyled__StyledPaginationLocation-sc-1t8z84i-2 cHdiez')\n",
    "print(properties.prettify())"
   ]
  },
  {
   "cell_type": "code",
   "execution_count": 12,
   "metadata": {},
   "outputs": [
    {
     "name": "stdout",
     "output_type": "stream",
     "text": [
      "3056\n"
     ]
    }
   ],
   "source": [
    "properties2=properties.strong.text\n",
    "print(properties2)"
   ]
  },
  {
   "cell_type": "markdown",
   "metadata": {},
   "source": [
    "Combine this code into one line:"
   ]
  },
  {
   "cell_type": "code",
   "execution_count": 13,
   "metadata": {},
   "outputs": [],
   "source": [
    "number_properties=int(soup.find('span',class_='pagination-locationstyled__StyledContainer-sc-1wpe7y8-0 gTivhm pagination-barstyled__StyledPaginationLocation-sc-1t8z84i-2 cHdiez').strong.text)"
   ]
  },
  {
   "cell_type": "markdown",
   "metadata": {},
   "source": [
    "The max number of listings per page is 10, so the number of pages needing scraping is:"
   ]
  },
  {
   "cell_type": "code",
   "execution_count": 56,
   "metadata": {},
   "outputs": [
    {
     "data": {
      "text/plain": [
       "306"
      ]
     },
     "execution_count": 56,
     "metadata": {},
     "output_type": "execute_result"
    }
   ],
   "source": [
    "(number_properties // 10)+1"
   ]
  },
  {
   "cell_type": "markdown",
   "metadata": {},
   "source": [
    "### URL deconstruction and buidling:"
   ]
  },
  {
   "cell_type": "markdown",
   "metadata": {},
   "source": [
    "Through some manual observation, the URL can be deconstructed into location, radius, already sold / let , for sale or for renting."
   ]
  },
  {
   "cell_type": "code",
   "execution_count": 15,
   "metadata": {},
   "outputs": [],
   "source": [
    "base_http='https://www.purplebricks.co.uk/search/property-for-sale/'\n",
    "location = 'london'\n",
    "radius='30'\n",
    "sold_let='false'\n",
    "type_='ForSale' # Change to 'ForRent' if wanting rental properties\n",
    "page=1 #I will loop over this, but for illustration purposes include"
   ]
  },
  {
   "cell_type": "code",
   "execution_count": 57,
   "metadata": {},
   "outputs": [
    {
     "name": "stdout",
     "output_type": "stream",
     "text": [
      "https://www.purplebricks.co.uk/search/property-for-sale/london?page=1&searchRadius=30&searchType=ForSale&soldOrLet=false\n"
     ]
    }
   ],
   "source": [
    "url=f'{base_http}{location}?page={page}&searchRadius={radius}&searchType={type_}&soldOrLet={sold_let}'\n",
    "print(url)"
   ]
  },
  {
   "cell_type": "markdown",
   "metadata": {},
   "source": [
    "### Define a function to retrieve number of pages to scrape over:"
   ]
  },
  {
   "cell_type": "code",
   "execution_count": 58,
   "metadata": {},
   "outputs": [],
   "source": [
    "def get_max_pages(base_http,location,radius,type_,sold_let): \n",
    "    url=f'{base_http}{location}?page=1&searchRadius={radius}&searchType={type_}&soldOrLet={sold_let}'\n",
    "    source = requests.get(url).text\n",
    "    soup=BeautifulSoup(source,'lxml')\n",
    "    number_properties=int(soup.find('span',class_='pagination-locationstyled__StyledContainer-sc-1wpe7y8-0 gTivhm pagination-barstyled__StyledPaginationLocation-sc-1t8z84i-2 cHdiez').strong.text)\n",
    "    max_pages=int((number_properties//10)+1)\n",
    "    return max_pages"
   ]
  },
  {
   "cell_type": "markdown",
   "metadata": {},
   "source": [
    "And check it works:"
   ]
  },
  {
   "cell_type": "code",
   "execution_count": 59,
   "metadata": {},
   "outputs": [
    {
     "name": "stdout",
     "output_type": "stream",
     "text": [
      "306\n"
     ]
    }
   ],
   "source": [
    "max_pages=get_max_pages(base_http,location,radius,type_,sold_let)\n",
    "print(max_pages)"
   ]
  },
  {
   "cell_type": "markdown",
   "metadata": {},
   "source": [
    "## Getting the data"
   ]
  },
  {
   "cell_type": "markdown",
   "metadata": {},
   "source": [
    "Set up the dataframe to store the results in:"
   ]
  },
  {
   "cell_type": "code",
   "execution_count": 24,
   "metadata": {},
   "outputs": [],
   "source": [
    "purplebricks_df=pd.DataFrame(columns=['Bedrooms','Type','Price'])"
   ]
  },
  {
   "cell_type": "markdown",
   "metadata": {},
   "source": [
    "Define a function to scrape - print functions silenced, there to check loop funcitonality"
   ]
  },
  {
   "cell_type": "code",
   "execution_count": 25,
   "metadata": {},
   "outputs": [],
   "source": [
    "def get_data(base_http, location,radius,type_,sold_let,max_pages,cols):\n",
    "    purplebricks_df=pd.DataFrame(columns=cols)\n",
    "    i=0\n",
    "    for page in range(1,max_pages+1):\n",
    "        url=f'{base_http}{location}?page={page}&sortBy=2&searchRadius={radius}&searchType={type_}&soldOrLet={sold_let}'\n",
    "        #print(url)\n",
    "        source = requests.get(url).text\n",
    "        soup=BeautifulSoup(source,'lxml')\n",
    "        #print(i)\n",
    "        for listing in soup.find_all('div', class_=\"property-cardstyled__StyledPropertyCard-sc-15g6092-0 fwvNIe\"):\n",
    "            try:\n",
    "                bedrooms=int(re.split(' bedroom | - |£',listing.a['aria-label'])[0])\n",
    "                details=(re.split(' bedroom | - |£',listing.a['aria-label'])[1])\n",
    "                price=int(re.split(' bedroom | - |£',listing.a['aria-label'])[3].replace(',',''))\n",
    "            except:\n",
    "                listing_details=re.split(' - |£',listing.a['aria-label'])\n",
    "                bedrooms=1\n",
    "                details=listing_details[0]\n",
    "                price=int(listing_details[2].replace(',',''))\n",
    "            purplebricks_df.loc[i]=bedrooms, details, price\n",
    "            #print(i)\n",
    "            i+=1\n",
    "    return purplebricks_df"
   ]
  },
  {
   "cell_type": "markdown",
   "metadata": {},
   "source": [
    "Set out the base url, location, radius (miles), listing type and fetch the number of pages to scrape over - then feed this data into a dataframe."
   ]
  },
  {
   "cell_type": "code",
   "execution_count": 26,
   "metadata": {
    "scrolled": false
   },
   "outputs": [
    {
     "name": "stdout",
     "output_type": "stream",
     "text": [
      "Max pages =306\n",
      "3060\n"
     ]
    },
    {
     "data": {
      "text/html": [
       "<div>\n",
       "<style scoped>\n",
       "    .dataframe tbody tr th:only-of-type {\n",
       "        vertical-align: middle;\n",
       "    }\n",
       "\n",
       "    .dataframe tbody tr th {\n",
       "        vertical-align: top;\n",
       "    }\n",
       "\n",
       "    .dataframe thead th {\n",
       "        text-align: right;\n",
       "    }\n",
       "</style>\n",
       "<table border=\"1\" class=\"dataframe\">\n",
       "  <thead>\n",
       "    <tr style=\"text-align: right;\">\n",
       "      <th></th>\n",
       "      <th>Bedrooms</th>\n",
       "      <th>Type</th>\n",
       "      <th>Price</th>\n",
       "    </tr>\n",
       "  </thead>\n",
       "  <tbody>\n",
       "    <tr>\n",
       "      <th>0</th>\n",
       "      <td>5</td>\n",
       "      <td>detached house</td>\n",
       "      <td>4250000</td>\n",
       "    </tr>\n",
       "    <tr>\n",
       "      <th>1</th>\n",
       "      <td>5</td>\n",
       "      <td>semi-detached house</td>\n",
       "      <td>4000000</td>\n",
       "    </tr>\n",
       "    <tr>\n",
       "      <th>2</th>\n",
       "      <td>3</td>\n",
       "      <td>flat</td>\n",
       "      <td>3250000</td>\n",
       "    </tr>\n",
       "    <tr>\n",
       "      <th>3</th>\n",
       "      <td>4</td>\n",
       "      <td>end of terrace house</td>\n",
       "      <td>2850000</td>\n",
       "    </tr>\n",
       "    <tr>\n",
       "      <th>4</th>\n",
       "      <td>4</td>\n",
       "      <td>flat</td>\n",
       "      <td>1950000</td>\n",
       "    </tr>\n",
       "    <tr>\n",
       "      <th>...</th>\n",
       "      <td>...</td>\n",
       "      <td>...</td>\n",
       "      <td>...</td>\n",
       "    </tr>\n",
       "    <tr>\n",
       "      <th>3055</th>\n",
       "      <td>1</td>\n",
       "      <td>retirement property</td>\n",
       "      <td>120000</td>\n",
       "    </tr>\n",
       "    <tr>\n",
       "      <th>3056</th>\n",
       "      <td>2</td>\n",
       "      <td>park home</td>\n",
       "      <td>120000</td>\n",
       "    </tr>\n",
       "    <tr>\n",
       "      <th>3057</th>\n",
       "      <td>1</td>\n",
       "      <td>retirement property</td>\n",
       "      <td>120000</td>\n",
       "    </tr>\n",
       "    <tr>\n",
       "      <th>3058</th>\n",
       "      <td>1</td>\n",
       "      <td>retirement property</td>\n",
       "      <td>115000</td>\n",
       "    </tr>\n",
       "    <tr>\n",
       "      <th>3059</th>\n",
       "      <td>2</td>\n",
       "      <td>terraced house</td>\n",
       "      <td>114000</td>\n",
       "    </tr>\n",
       "  </tbody>\n",
       "</table>\n",
       "<p>3060 rows × 3 columns</p>\n",
       "</div>"
      ],
      "text/plain": [
       "     Bedrooms                  Type    Price\n",
       "0           5        detached house  4250000\n",
       "1           5   semi-detached house  4000000\n",
       "2           3                  flat  3250000\n",
       "3           4  end of terrace house  2850000\n",
       "4           4                  flat  1950000\n",
       "...       ...                   ...      ...\n",
       "3055        1   retirement property   120000\n",
       "3056        2             park home   120000\n",
       "3057        1   retirement property   120000\n",
       "3058        1   retirement property   115000\n",
       "3059        2        terraced house   114000\n",
       "\n",
       "[3060 rows x 3 columns]"
      ]
     },
     "execution_count": 26,
     "metadata": {},
     "output_type": "execute_result"
    }
   ],
   "source": [
    "base_http='https://www.purplebricks.co.uk/search/property-for-sale/'\n",
    "location = 'london'\n",
    "radius='30'\n",
    "sold_let='false'\n",
    "type_='ForSale'\n",
    "max_pages=get_max_pages(base_http,location,radius,type_,sold_let)\n",
    "print(f'Max pages ={max_pages}')\n",
    "cols=['Bedrooms','Type','Price']\n",
    "purplebricks_df=get_data(base_http, location,radius,type_,sold_let,max_pages,cols)\n",
    "print(len(purplebricks_df))\n",
    "purplebricks_df"
   ]
  },
  {
   "cell_type": "markdown",
   "metadata": {},
   "source": [
    "Note that there are 4 more properties now than there were when running the code above - believe this is due to slight time delay in running of my code and new properties being uploaded."
   ]
  },
  {
   "cell_type": "code",
   "execution_count": 60,
   "metadata": {},
   "outputs": [],
   "source": [
    "purplebricks_df.to_csv(r'C:\\Users\\maxan\\Documents\\Python\\purplebricks.csv', index = False)"
   ]
  },
  {
   "cell_type": "code",
   "execution_count": 61,
   "metadata": {},
   "outputs": [],
   "source": [
    "purplebricks_df.to_json(r'C:\\Users\\maxan\\Documents\\Python\\purplebricks.json')"
   ]
  },
  {
   "cell_type": "markdown",
   "metadata": {},
   "source": [
    "## Potential extensions\n",
    "\n",
    "Postcodes\n",
    "\n",
    "Adding minimum prices (this is just a case of adding another URL argument of '&priceFrom=X'\n",
    "\n",
    "Using the latitude & longitude"
   ]
  }
 ],
 "metadata": {
  "kernelspec": {
   "display_name": "Python 3",
   "language": "python",
   "name": "python3"
  },
  "language_info": {
   "codemirror_mode": {
    "name": "ipython",
    "version": 3
   },
   "file_extension": ".py",
   "mimetype": "text/x-python",
   "name": "python",
   "nbconvert_exporter": "python",
   "pygments_lexer": "ipython3",
   "version": "3.8.5"
  }
 },
 "nbformat": 4,
 "nbformat_minor": 4
}
